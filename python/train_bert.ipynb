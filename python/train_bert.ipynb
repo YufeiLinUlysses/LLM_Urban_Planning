{
 "cells": [
  {
   "cell_type": "code",
   "execution_count": null,
   "metadata": {},
   "outputs": [],
   "source": [
    "!python3.11 -m pip install transformers huggingface_hub datasets peft trl bitsandbytes evaluate matplotlib rouge-score bert_score\n",
    "!python3.11 -m pip install --upgrade jupyter\n",
    "!python3.11 -m pip install --upgrade ipywidgets"
   ]
  },
  {
   "cell_type": "code",
   "execution_count": 5,
   "metadata": {},
   "outputs": [],
   "source": [
    "import pandas as pd\n",
    "import numpy as np\n",
    "import torch\n",
    "from datasets import Dataset, DatasetDict\n",
    "from transformers import (\n",
    "    AutoModelForCausalLM,\n",
    "    AutoTokenizer, \n",
    "    BitsAndBytesConfig,\n",
    "    AutoTokenizer,\n",
    ")\n",
    "from peft import LoraConfig, get_peft_model\n",
    "from transformers import TrainingArguments\n",
    "from trl import SFTTrainer\n",
    "import json"
   ]
  },
  {
   "cell_type": "code",
   "execution_count": 6,
   "metadata": {},
   "outputs": [],
   "source": [
    "dir = \"../instructions/\"\n",
    "datasets = [\"highD\",\"ngsim\",\"road_networks\",\"tlc_trip\",\"urban_flow_prediction_survey\"]\n",
    "multiple_select = []\n",
    "short_answer = []\n",
    "custom_ds = pd.DataFrame()\n",
    "prompts = []\n",
    "for d in datasets:\n",
    "    with open(dir+d+\"_instructions_generated.json\", 'r') as f:\n",
    "      data = json.load(f)\n",
    "      data_multiple_select = data[0]\n",
    "      for i in data_multiple_select[\"Positive Example\"]:\n",
    "        prompt = i[\"Input\"] + \"\\n\" + \"The answer to the question is:\" + \"\\n\" + i[\"Output\"] + \"\\nThe reason for the answer is: \" + i[\"Explanation\"]\n",
    "        prompts.append(prompt)\n",
    "      for i in data_multiple_select[\"Negative Example\"]:\n",
    "        prompt = i[\"Input\"] + \"\\n\" + \"The answer to the question is definitely not the following:\" + \"\\n\" + i[\"Output\"] + \"\\nThe reason for it's not the answer is: \" + i[\"Explanation\"]\n",
    "        prompts.append(prompt)\n",
    "\n",
    "      data_short_answer = data[1]\n",
    "      for i in data_short_answer[\"Positive Example\"]:\n",
    "        prompt = i[\"Input\"] + \"\\n\" + \"The answer to the question is:\" + \"\\n\" + i[\"Output\"] + \"\\nThe reason for the answer is: \" + i[\"Explanation\"]\n",
    "        prompts.append(prompt)\n",
    "      for i in data_short_answer[\"Negative Example\"]:\n",
    "        prompt = i[\"Input\"] + \"\\n\" + \"The answer to the question is definitely not the following:\" + \"\\n\" + i[\"Output\"] + \"\\nThe reason for it's not the answer is: \" + i[\"Explanation\"]\n",
    "        prompts.append(prompt)\n",
    "custom_ds[\"prompt\"] = prompts\n",
    "dataset = Dataset.from_pandas(custom_ds)\n",
    "train_test_dataset = dataset.train_test_split(test_size=0.2)\n",
    "model_name = \"google-bert/bert-base-cased\""
   ]
  },
  {
   "cell_type": "code",
   "execution_count": 9,
   "metadata": {},
   "outputs": [
    {
     "name": "stderr",
     "output_type": "stream",
     "text": [
      "If you want to use `BertLMHeadModel` as a standalone, add `is_decoder=True.`\n",
      "C:\\Users\\huawe\\AppData\\Local\\Packages\\PythonSoftwareFoundation.Python.3.11_qbz5n2kfra8p0\\LocalCache\\local-packages\\Python311\\site-packages\\transformers\\tokenization_utils_base.py:1601: FutureWarning: `clean_up_tokenization_spaces` was not set. It will be set to `True` by default. This behavior will be depracted in transformers v4.45, and will be then set to `False` by default. For more details check this issue: https://github.com/huggingface/transformers/issues/31884\n",
      "  warnings.warn(\n",
      "WARNING:bitsandbytes.cextension:The installed version of bitsandbytes was compiled without GPU support. 8-bit optimizers, 8-bit multiplication, and GPU quantization are unavailable.\n"
     ]
    }
   ],
   "source": [
    "from transformers import AutoModelForCausalLM, AutoTokenizer\n",
    "from peft import LoraConfig, get_peft_model\n",
    "\n",
    "# Load the model without quantization (no BitsAndBytesConfig)\n",
    "model = AutoModelForCausalLM.from_pretrained(\n",
    "    model_name,  # Your model name\n",
    "    trust_remote_code=True\n",
    ")\n",
    "model.config.use_cache = False\n",
    "\n",
    "# Load the tokenizer\n",
    "tokenizer = AutoTokenizer.from_pretrained(model_name, trust_remote_code=True)\n",
    "tokenizer.pad_token = tokenizer.eos_token\n",
    "\n",
    "# Configure LoRA\n",
    "lora_alpha = 16\n",
    "lora_dropout = 0.1\n",
    "lora_r = 64\n",
    "peft_config = LoraConfig(\n",
    "    lora_alpha=lora_alpha,\n",
    "    lora_dropout=lora_dropout,\n",
    "    r=lora_r,\n",
    "    bias=\"none\",\n",
    "    task_type=\"CAUSAL_LM\",\n",
    ")\n",
    "\n",
    "# Apply LoRA to the model\n",
    "model = get_peft_model(model, peft_config)\n",
    "\n"
   ]
  },
  {
   "cell_type": "code",
   "execution_count": 15,
   "metadata": {},
   "outputs": [],
   "source": [
    "output_dir = \"./results\"\n",
    "per_device_train_batch_size = 4\n",
    "gradient_accumulation_steps = 4\n",
    "optim = \"paged_adamw_32bit\"\n",
    "save_steps = 200\n",
    "logging_steps = 10\n",
    "learning_rate = 2e-4\n",
    "max_grad_norm = 0.3\n",
    "max_steps = 300\n",
    "warmup_ratio = 0.03\n",
    "lr_scheduler_type = \"constant\"\n",
    "\n",
    "training_arguments = TrainingArguments(\n",
    "    output_dir=\"./results\",\n",
    "    num_train_epochs=3,\n",
    "    per_device_train_batch_size=8,\n",
    "    per_device_eval_batch_size=8,\n",
    "    warmup_steps=500,\n",
    "    weight_decay=0.01,\n",
    "    logging_dir=\"./logs\",\n",
    "    logging_steps=10,\n",
    "    fp16=False\n",
    ")"
   ]
  },
  {
   "cell_type": "code",
   "execution_count": 11,
   "metadata": {},
   "outputs": [
    {
     "data": {
      "text/plain": [
       "0"
      ]
     },
     "execution_count": 11,
     "metadata": {},
     "output_type": "execute_result"
    }
   ],
   "source": [
    "# trainer = SFTTrainer(\n",
    "#     model=model,\n",
    "#     train_dataset=dataset,\n",
    "#     peft_config=peft_config,\n",
    "#     dataset_text_field=\"prompt\",\n",
    "#     max_seq_length=model.config.max_position_embeddings,\n",
    "#     tokenizer=tokenizer,\n",
    "#     args=training_arguments,\n",
    "# )\n",
    "tokenizer.add_special_tokens({'pad_token': '[PAD]'})\n",
    "# for name, module in trainer.model.named_modules():\n",
    "#     if \"norm\" in name:\n",
    "#         module = module.to(torch.float32)\n",
    "# trainer.train()"
   ]
  },
  {
   "cell_type": "code",
   "execution_count": 20,
   "metadata": {},
   "outputs": [],
   "source": [
    "model_to_save = trainer.model.module if hasattr(trainer.model, 'module') else trainer.model  # Take care of distributed/parallel training\n",
    "model_to_save.save_pretrained(\"outputs\")"
   ]
  },
  {
   "cell_type": "code",
   "execution_count": 6,
   "metadata": {},
   "outputs": [],
   "source": [
    "lora_config = LoraConfig.from_pretrained('outputs')\n",
    "model = get_peft_model(model, lora_config)"
   ]
  },
  {
   "cell_type": "code",
   "execution_count": 27,
   "metadata": {},
   "outputs": [
    {
     "data": {
      "text/plain": [
       "<Axes: xlabel='step'>"
      ]
     },
     "execution_count": 27,
     "metadata": {},
     "output_type": "execute_result"
    },
    {
     "data": {
      "image/png": "[encoded data removed]",
      "text/plain": [
       "<Figure size 640x480 with 1 Axes>"
      ]
     },
     "metadata": {},
     "output_type": "display_data"
    }
   ],
   "source": [
    "# draw output graph\n",
    "import json\n",
    "import os\n",
    "import pandas as pd\n",
    "import matplotlib.pyplot as plt\n",
    "\n",
    "directory = \"./results\"\n",
    "json_file_path = os.path.join(directory,\"checkpoint-3465\",\"trainer_state.json\")\n",
    "results = json.load(open(json_file_path,\"r\"))[\"log_history\"]\n",
    "results_df = pd.DataFrame(results)\n",
    "# results_df.plot(x=\"step\",y=\"loss\",kind=\"line\")\n",
    "results_df.plot(\n",
    "    x=\"step\",\n",
    "    y=\"loss\",\n",
    "    kind=\"line\"\n",
    ")"
   ]
  },
  {
   "cell_type": "code",
   "execution_count": 8,
   "metadata": {},
   "outputs": [
    {
     "data": {
      "text/plain": [
       "'How was this data created? (A)Using a drone. (B)Manually collected (C)Via traffic cameras (D)By police department\\nThe answer to the question is:\\nA\\nThe reason for the answer is: This data was generated using a drone'"
      ]
     },
     "execution_count": 8,
     "metadata": {},
     "output_type": "execute_result"
    }
   ],
   "source": [
    "text = dataset[\"prompt\"][0]\n",
    "text"
   ]
  },
  {
   "cell_type": "code",
   "execution_count": 12,
   "metadata": {},
   "outputs": [
    {
     "name": "stdout",
     "output_type": "stream",
     "text": [
      "How was this data created? ( A ) Using a drone. ( B ) Manually collected ( C ) Via traffic cameras ( D ) By police department The answer to the question is : A The reason for the answer is : This data was generated using a drone.............................................................................................................................................................................................................................................................................................................................................................................................................................................................\n"
     ]
    }
   ],
   "source": [
    "import torch\n",
    "import numpy as np\n",
    "\n",
    "# Example text input from the dataset\n",
    "text = dataset[\"prompt\"][0]\n",
    "\n",
    "# Set device to CPU\n",
    "device = \"cpu\"\n",
    "\n",
    "# Initialize an empty list to store predictions\n",
    "preds = []\n",
    "\n",
    "# Tokenize the input text and move the tensors to the CPU\n",
    "inputs = tokenizer(text, return_tensors=\"pt\").to(device)\n",
    "\n",
    "# Generate the outputs using the model\n",
    "outputs = model.generate(\n",
    "    input_ids=inputs[\"input_ids\"],\n",
    "    attention_mask=inputs[\"attention_mask\"],\n",
    "    max_length=500,  # Adjusted max_length if needed\n",
    "    return_dict_in_generate=True,\n",
    "    output_scores=True,\n",
    ")\n",
    "\n",
    "# Get the probabilities for the first token\n",
    "first_token_probs = outputs.scores[0][0]\n",
    "\n",
    "# Convert the list of option indices to a torch tensor for indexing\n",
    "option_indices = torch.tensor([319, 350, 315, 360], dtype=torch.long)\n",
    "\n",
    "# Calculate the scores for specific options (ABC/319, B/350, etc.)\n",
    "option_scores = first_token_probs[option_indices].float().cpu().numpy()  # ABCD\n",
    "\n",
    "# Get the top 3 predictions based on scores\n",
    "pred = np.array([\"A\", \"B\", \"C\", \"D\"])[np.argsort(option_scores)[::-1][:3]]\n",
    "\n",
    "# Join predictions into a single string and append to preds list\n",
    "pred = \" \".join(pred)\n",
    "preds.append(pred)\n",
    "\n",
    "# Optionally print the decoded output (without special tokens)\n",
    "print(tokenizer.decode(outputs.sequences[0], skip_special_tokens=True))\n"
   ]
  },
  {
   "cell_type": "code",
   "execution_count": 12,
   "metadata": {},
   "outputs": [
    {
     "name": "stderr",
     "output_type": "stream",
     "text": [
      "A decoder-only architecture is being used, but right-padding was detected! For correct generation results, please set `padding_side='left'` when initializing the tokenizer.\n",
      "A decoder-only architecture is being used, but right-padding was detected! For correct generation results, please set `padding_side='left'` when initializing the tokenizer.\n",
      "A decoder-only architecture is being used, but right-padding was detected! For correct generation results, please set `padding_side='left'` when initializing the tokenizer.\n"
     ]
    },
    {
     "data": {
      "text/plain": [
       "{'rouge1': 0.4075022659601612,\n",
       " 'rouge2': 0.4050088835628053,\n",
       " 'rougeL': 0.40838248273421635,\n",
       " 'rougeLsum': 0.4085602397395034}"
      ]
     },
     "execution_count": 12,
     "metadata": {},
     "output_type": "execute_result"
    }
   ],
   "source": [
    "import torch\n",
    "import evaluate\n",
    "\n",
    "# Load the ROUGE metric from the evaluate library\n",
    "rouge = evaluate.load(\"rouge\")\n",
    "\n",
    "# Example list of texts (prompts) and reference summaries from the dataset\n",
    "prompts = dataset[\"prompt\"][:10] \n",
    "references = dataset[\"prompt\"][:10]\n",
    "\n",
    "# Set device to CPU (or use GPU if available)\n",
    "device = \"cpu\"\n",
    "\n",
    "# Tokenize the input texts in batches (adjust batch size as needed)\n",
    "batch_size = 4  # Example batch size\n",
    "predictions = []\n",
    "\n",
    "for i in range(0, len(prompts), batch_size):\n",
    "    # Take a batch of prompts\n",
    "    batch_prompts = prompts[i:i + batch_size]\n",
    "    \n",
    "    # Tokenize the batch of texts\n",
    "    inputs = tokenizer(batch_prompts, return_tensors=\"pt\", padding=True, truncation=True).to(device)\n",
    "    \n",
    "    # Generate the outputs for the batch using the model\n",
    "    outputs = model.generate(\n",
    "        input_ids=inputs[\"input_ids\"],\n",
    "        attention_mask=inputs[\"attention_mask\"],\n",
    "        max_length=500,  # Adjust max_length based on your task\n",
    "        return_dict_in_generate=True,\n",
    "        output_scores=True,\n",
    "    )\n",
    "    \n",
    "    # Decode the generated outputs into text and append to predictions list\n",
    "    batch_predictions = [tokenizer.decode(output, skip_special_tokens=True) for output in outputs.sequences]\n",
    "    predictions.extend(batch_predictions)\n",
    "\n",
    "# Calculate ROUGE score using evaluate package\n",
    "rouge_results = rouge.compute(predictions=predictions, references=references)\n",
    "\n",
    "# Print the ROUGE results\n",
    "rouge_results"
   ]
  },
  {
   "cell_type": "code",
   "execution_count": 15,
   "metadata": {},
   "outputs": [
    {
     "data": {
      "application/vnd.jupyter.widget-view+json": {
       "model_id": "47b92e41c2eb452fa56899bee43623ef",
       "version_major": 2,
       "version_minor": 0
      },
      "text/plain": [
       "tokenizer_config.json:   0%|          | 0.00/25.0 [00:00<?, ?B/s]"
      ]
     },
     "metadata": {},
     "output_type": "display_data"
    },
    {
     "name": "stderr",
     "output_type": "stream",
     "text": [
      "C:\\Users\\huawe\\AppData\\Local\\Packages\\PythonSoftwareFoundation.Python.3.11_qbz5n2kfra8p0\\LocalCache\\local-packages\\Python311\\site-packages\\huggingface_hub\\file_download.py:159: UserWarning: `huggingface_hub` cache-system uses symlinks by default to efficiently store duplicated files but your machine does not support them in C:\\Users\\huawe\\.cache\\huggingface\\hub\\models--roberta-large. Caching files will still work but in a degraded version that might require more space on your disk. This warning can be disabled by setting the `HF_HUB_DISABLE_SYMLINKS_WARNING` environment variable. For more details, see https://huggingface.co/docs/huggingface_hub/how-to-cache#limitations.\n",
      "To support symlinks on Windows, you either need to activate Developer Mode or to run Python as an administrator. In order to see activate developer mode, see this article: https://docs.microsoft.com/en-us/windows/apps/get-started/enable-your-device-for-development\n",
      "  warnings.warn(message)\n"
     ]
    },
    {
     "data": {
      "application/vnd.jupyter.widget-view+json": {
       "model_id": "61070511c97f42aeb36999fcdea4e6b4",
       "version_major": 2,
       "version_minor": 0
      },
      "text/plain": [
       "config.json:   0%|          | 0.00/482 [00:00<?, ?B/s]"
      ]
     },
     "metadata": {},
     "output_type": "display_data"
    },
    {
     "data": {
      "application/vnd.jupyter.widget-view+json": {
       "model_id": "60c52396f5c84c8d8d5df63b60b9d52f",
       "version_major": 2,
       "version_minor": 0
      },
      "text/plain": [
       "vocab.json:   0%|          | 0.00/899k [00:00<?, ?B/s]"
      ]
     },
     "metadata": {},
     "output_type": "display_data"
    },
    {
     "data": {
      "application/vnd.jupyter.widget-view+json": {
       "model_id": "40eff50a7a0945c187de1001cd6ada91",
       "version_major": 2,
       "version_minor": 0
      },
      "text/plain": [
       "merges.txt:   0%|          | 0.00/456k [00:00<?, ?B/s]"
      ]
     },
     "metadata": {},
     "output_type": "display_data"
    },
    {
     "data": {
      "application/vnd.jupyter.widget-view+json": {
       "model_id": "963d9484155c41928568375d8b362f7c",
       "version_major": 2,
       "version_minor": 0
      },
      "text/plain": [
       "tokenizer.json:   0%|          | 0.00/1.36M [00:00<?, ?B/s]"
      ]
     },
     "metadata": {},
     "output_type": "display_data"
    },
    {
     "name": "stderr",
     "output_type": "stream",
     "text": [
      "C:\\Users\\huawe\\AppData\\Local\\Packages\\PythonSoftwareFoundation.Python.3.11_qbz5n2kfra8p0\\LocalCache\\local-packages\\Python311\\site-packages\\transformers\\tokenization_utils_base.py:1601: FutureWarning: `clean_up_tokenization_spaces` was not set. It will be set to `True` by default. This behavior will be depracted in transformers v4.45, and will be then set to `False` by default. For more details check this issue: https://github.com/huggingface/transformers/issues/31884\n",
      "  warnings.warn(\n"
     ]
    },
    {
     "data": {
      "application/vnd.jupyter.widget-view+json": {
       "model_id": "18ba90f46d2b4de88c9ff5774c3a3213",
       "version_major": 2,
       "version_minor": 0
      },
      "text/plain": [
       "model.safetensors:   0%|          | 0.00/1.42G [00:00<?, ?B/s]"
      ]
     },
     "metadata": {},
     "output_type": "display_data"
    },
    {
     "name": "stderr",
     "output_type": "stream",
     "text": [
      "Some weights of RobertaModel were not initialized from the model checkpoint at roberta-large and are newly initialized: ['roberta.pooler.dense.bias', 'roberta.pooler.dense.weight']\n",
      "You should probably TRAIN this model on a down-stream task to be able to use it for predictions and inference.\n"
     ]
    }
   ],
   "source": [
    "bertscore = evaluate.load(\"bertscore\")\n",
    "bert_results = bertscore.compute(predictions=predictions, references=references, lang=\"en\")"
   ]
  },
  {
   "cell_type": "code",
   "execution_count": 18,
   "metadata": {},
   "outputs": [
    {
     "data": {
      "text/plain": [
       "0.8367290437221527"
      ]
     },
     "execution_count": 18,
     "metadata": {},
     "output_type": "execute_result"
    }
   ],
   "source": [
    "sum(bert_results[\"f1\"])/len(bert_results[\"f1\"])"
   ]
  },
  {
   "cell_type": "markdown",
   "metadata": {},
   "source": [
    "llama3 t5 decoder model\n",
    "f1 score\n",
    "log each iteration\n",
    "draw graph\n",
    "f1 bleu score"
   ]
  }
 ],
 "metadata": {
  "kernelspec": {
   "display_name": "Python 3",
   "language": "python",
   "name": "python3"
  },
  "language_info": {
   "codemirror_mode": {
    "name": "ipython",
    "version": 3
   },
   "file_extension": ".py",
   "mimetype": "text/x-python",
   "name": "python",
   "nbconvert_exporter": "python",
   "pygments_lexer": "ipython3",
   "version": "3.11.9"
  }
 },
 "nbformat": 4,
 "nbformat_minor": 2
}
